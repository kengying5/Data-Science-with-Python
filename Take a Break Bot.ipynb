{
 "cells": [
  {
   "cell_type": "code",
   "execution_count": null,
   "metadata": {},
   "outputs": [
    {
     "name": "stdout",
     "output_type": "stream",
     "text": [
      "this program started on Sun Jul 29 17:03:22 2018\n"
     ]
    }
   ],
   "source": [
    "import time\n",
    "import webbrowser\n",
    "\n",
    "total_breaks = 5\n",
    "break_count = 0\n",
    "\n",
    "print(\"this program started on \"+time.ctime())\n",
    "while(break_count < total_breaks) :\n",
    "    time.sleep(120)\n",
    "    webbrowser.open(\"https://www.youtube.com/watch?v=2Vv-BfVoq4g\")\n",
    "    break_count = break_count + 1"
   ]
  },
  {
   "cell_type": "code",
   "execution_count": null,
   "metadata": {},
   "outputs": [],
   "source": []
  }
 ],
 "metadata": {
  "kernelspec": {
   "display_name": "Python 2",
   "language": "python",
   "name": "python2"
  },
  "language_info": {
   "codemirror_mode": {
    "name": "ipython",
    "version": 2
   },
   "file_extension": ".py",
   "mimetype": "text/x-python",
   "name": "python",
   "nbconvert_exporter": "python",
   "pygments_lexer": "ipython2",
   "version": "2.7.15"
  }
 },
 "nbformat": 4,
 "nbformat_minor": 2
}
